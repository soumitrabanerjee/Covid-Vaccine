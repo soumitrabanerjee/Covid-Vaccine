{
 "cells": [
  {
   "cell_type": "code",
   "execution_count": 2,
   "id": "0e08eb62-9aa9-436d-a94e-d1fc86f5c49c",
   "metadata": {},
   "outputs": [],
   "source": [
    "import pyspark\n",
    "from pyspark.sql import SparkSession\n",
    "\n",
    "spark = SparkSession.builder.appName('covid vaccine').getOrCreate()"
   ]
  },
  {
   "cell_type": "code",
   "execution_count": 3,
   "id": "6592ec22-6b0b-42b6-961e-fceba41d4a2d",
   "metadata": {},
   "outputs": [
    {
     "name": "stdout",
     "output_type": "stream",
     "text": [
      "root\n",
      " |-- Updated On: string (nullable = true)\n",
      " |-- State: string (nullable = true)\n",
      " |-- Total Doses Administered: double (nullable = true)\n",
      " |-- Sessions: double (nullable = true)\n",
      " |--  Sites : double (nullable = true)\n",
      " |-- First Dose Administered: double (nullable = true)\n",
      " |-- Second Dose Administered: double (nullable = true)\n",
      " |-- Male (Doses Administered): double (nullable = true)\n",
      " |-- Female (Doses Administered): double (nullable = true)\n",
      " |-- Transgender (Doses Administered): double (nullable = true)\n",
      " |--  Covaxin (Doses Administered): double (nullable = true)\n",
      " |-- CoviShield (Doses Administered): double (nullable = true)\n",
      " |-- Sputnik V (Doses Administered): double (nullable = true)\n",
      " |-- AEFI: double (nullable = true)\n",
      " |-- 18-44 Years (Doses Administered): double (nullable = true)\n",
      " |-- 45-60 Years (Doses Administered): double (nullable = true)\n",
      " |-- 60+ Years (Doses Administered): double (nullable = true)\n",
      " |-- 18-44 Years(Individuals Vaccinated): double (nullable = true)\n",
      " |-- 45-60 Years(Individuals Vaccinated): double (nullable = true)\n",
      " |-- 60+ Years(Individuals Vaccinated): double (nullable = true)\n",
      " |-- Male(Individuals Vaccinated): double (nullable = true)\n",
      " |-- Female(Individuals Vaccinated): double (nullable = true)\n",
      " |-- Transgender(Individuals Vaccinated): double (nullable = true)\n",
      " |-- Total Individuals Vaccinated: double (nullable = true)\n",
      "\n"
     ]
    }
   ],
   "source": [
    "df = spark.read.option('header', 'true').csv('covid_vaccine_statewise.csv', inferSchema=True)\n",
    "\n",
    "df.printSchema()"
   ]
  },
  {
   "cell_type": "code",
   "execution_count": 4,
   "id": "6f29af6a",
   "metadata": {},
   "outputs": [
    {
     "name": "stdout",
     "output_type": "stream",
     "text": [
      "+-----+------------------------+--------------------------------+\n",
      "|State|Total Doses Administered|18-44 Years (Doses Administered)|\n",
      "+-----+------------------------+--------------------------------+\n",
      "|India|                 48276.0|                            null|\n",
      "|India|                 58604.0|                            null|\n",
      "|India|                 99449.0|                            null|\n",
      "|India|                195525.0|                            null|\n",
      "|India|                251280.0|                            null|\n",
      "+-----+------------------------+--------------------------------+\n",
      "only showing top 5 rows\n",
      "\n"
     ]
    }
   ],
   "source": [
    "reqdf = df.select('State','Total Doses Administered','18-44 Years (Doses Administered)')\n",
    "reqdf.show(5)"
   ]
  },
  {
   "cell_type": "code",
   "execution_count": 26,
   "id": "2fa56851",
   "metadata": {},
   "outputs": [
    {
     "name": "stdout",
     "output_type": "stream",
     "text": [
      "+--------------------+-----------------------------+-------------------------------------+----------------------------------+------------------------------------------+\n",
      "|               State|max(Total Doses Administered)|max(18-44 Years (Doses Administered))|max(Total Doses Administered_mean)|max(18-44 Years (Doses Administered)_mean)|\n",
      "+--------------------+-----------------------------+-------------------------------------+----------------------------------+------------------------------------------+\n",
      "|            Nagaland|                     791508.0|                             467353.0|                 9188170.544023095|                          8773958.21386604|\n",
      "|           Karnataka|                  3.3280543E7|                          1.4653045E7|                       3.3280543E7|                               1.4653045E7|\n",
      "|              Odisha|                  1.8154686E7|                            7378863.0|                       1.8154686E7|                          8773958.21386604|\n",
      "|              Kerala|                  2.2097731E7|                            6467292.0|                       2.2097731E7|                          8773958.21386604|\n",
      "|Dadra and Nagar H...|                     665221.0|                             474123.0|                 9188170.544023095|                          8773958.21386604|\n",
      "|              Ladakh|                     259036.0|                             133710.0|                 9188170.544023095|                          8773958.21386604|\n",
      "|          Tamil Nadu|                  2.5522708E7|                           1.283809E7|                       2.5522708E7|                                1.283809E7|\n",
      "|        Chhattisgarh|                  1.1769177E7|                            4389004.0|                       1.1769177E7|                          8773958.21386604|\n",
      "|      Andhra Pradesh|                  2.3842895E7|                            7169390.0|                       2.3842895E7|                          8773958.21386604|\n",
      "|         Lakshadweep|                      68295.0|                              31333.0|                 9188170.544023095|                          8773958.21386604|\n",
      "|      Madhya Pradesh|                  3.5456676E7|                          1.9289779E7|                       3.5456676E7|                               1.9289779E7|\n",
      "|              Punjab|                  1.0291265E7|                            4419059.0|                       1.0291265E7|                          8773958.21386604|\n",
      "|             Manipur|                    1406118.0|                             781364.0|                 9188170.544023095|                          8773958.21386604|\n",
      "|                 Goa|                    1396911.0|                             676052.0|                 9188170.544023095|                          8773958.21386604|\n",
      "|             Mizoram|                     861719.0|                             439688.0|                 9188170.544023095|                          8773958.21386604|\n",
      "|    Himachal Pradesh|                    5632441.0|                            2216211.0|                 9188170.544023095|                          8773958.21386604|\n",
      "|          Puducherry|                     753362.0|                             365729.0|                 9188170.544023095|                          8773958.21386604|\n",
      "|             Haryana|                  1.3010381E7|                            6331770.0|                       1.3010381E7|                          8773958.21386604|\n",
      "|   Jammu and Kashmir|                    6808342.0|                            2418624.0|                 9188170.544023095|                          8773958.21386604|\n",
      "|           Jharkhand|                  1.0378294E7|                            5144231.0|                       1.0378294E7|                          8773958.21386604|\n",
      "+--------------------+-----------------------------+-------------------------------------+----------------------------------+------------------------------------------+\n",
      "only showing top 20 rows\n",
      "\n",
      "+--------------------+------------------------+--------------------------------+-----------------------------+-------------------------------------+\n",
      "|               State|Total Doses Administered|18-44 Years (Doses Administered)|Total Doses Administered_mean|18-44 Years (Doses Administered)_mean|\n",
      "+--------------------+------------------------+--------------------------------+-----------------------------+-------------------------------------+\n",
      "|               India|              1.864106E8|                            null|                   1.864106E8|                     8773958.21386604|\n",
      "|Andaman and Nicob...|                 24774.0|                            null|                      24774.0|                     8773958.21386604|\n",
      "|      Andhra Pradesh|               4968449.0|                            null|                    4968449.0|                     8773958.21386604|\n",
      "|               Bihar|               5964087.0|                            null|                    5964087.0|                     8773958.21386604|\n",
      "|          Chandigarh|                 43221.0|                            null|                      43221.0|                     8773958.21386604|\n",
      "|          Chandigarh|                149987.0|                            null|                     149987.0|                     8773958.21386604|\n",
      "|          Chandigarh|                265527.0|                            null|                     265527.0|                     8773958.21386604|\n",
      "|          Chandigarh|                419164.0|                            null|                     419164.0|                     8773958.21386604|\n",
      "|               Delhi|               1294057.0|                            null|                    1294057.0|                     8773958.21386604|\n",
      "|             Gujarat|             1.3267196E7|                            null|                  1.3267196E7|                     8773958.21386604|\n",
      "|             Haryana|               5687063.0|                            null|                    5687063.0|                     8773958.21386604|\n",
      "|   Jammu and Kashmir|                204193.0|                            null|                     204193.0|                     8773958.21386604|\n",
      "|   Jammu and Kashmir|               3429944.0|                            null|                    3429944.0|                     8773958.21386604|\n",
      "|           Karnataka|               3234506.0|                            null|                    3234506.0|                     8773958.21386604|\n",
      "|              Kerala|                445939.0|                            null|                     445939.0|                     8773958.21386604|\n",
      "|              Ladakh|                249727.0|                        125970.0|                     249727.0|                             125970.0|\n",
      "|      Madhya Pradesh|                332832.0|                            null|                     332832.0|                     8773958.21386604|\n",
      "|         Maharashtra|             2.7220156E7|                            null|                  2.7220156E7|                     8773958.21386604|\n",
      "|             Manipur|                  2394.0|                            null|                       2394.0|                     8773958.21386604|\n",
      "|             Mizoram|                297576.0|                            null|                     297576.0|                     8773958.21386604|\n",
      "+--------------------+------------------------+--------------------------------+-----------------------------+-------------------------------------+\n",
      "only showing top 20 rows\n",
      "\n"
     ]
    }
   ],
   "source": [
    "from pyspark.ml.feature import Imputer\n",
    "imputer = Imputer(\n",
    "                inputCols=['Total Doses Administered','18-44 Years (Doses Administered)'],\n",
    "                outputCols=[\"{}_mean\".format(val) for val in ['Total Doses Administered','18-44 Years (Doses Administered)']]).setStrategy('mean')\n",
    "    \n",
    "dfres = imputer.fit(reqdf).transform(reqdf)\n",
    "dfres.filter(dfres['State']!='India').groupBy('State').max().show()\n",
    "dfres.distinct().show()"
   ]
  },
  {
   "cell_type": "code",
   "execution_count": null,
   "id": "201041cc-b592-4e83-a058-96650833652e",
   "metadata": {},
   "outputs": [],
   "source": []
  },
  {
   "cell_type": "code",
   "execution_count": null,
   "id": "f7c52a1a",
   "metadata": {},
   "outputs": [],
   "source": []
  },
  {
   "cell_type": "code",
   "execution_count": null,
   "id": "3bd70fd8-a8c5-4269-88d4-1ff5f210d582",
   "metadata": {},
   "outputs": [],
   "source": []
  },
  {
   "cell_type": "code",
   "execution_count": null,
   "id": "b435ba83-9785-4379-9460-f73b23520be4",
   "metadata": {},
   "outputs": [],
   "source": []
  },
  {
   "cell_type": "code",
   "execution_count": null,
   "id": "ca7c5884-8620-44e9-beec-190694def4c1",
   "metadata": {},
   "outputs": [],
   "source": []
  },
  {
   "cell_type": "code",
   "execution_count": null,
   "id": "f707ea13-ad1a-4ee0-90ef-ec99896df676",
   "metadata": {},
   "outputs": [],
   "source": []
  },
  {
   "cell_type": "code",
   "execution_count": null,
   "id": "ce869394-d6b1-427b-81e5-e3f86fdb68e3",
   "metadata": {},
   "outputs": [],
   "source": []
  }
 ],
 "metadata": {
  "kernelspec": {
   "display_name": "Python 3 (ipykernel)",
   "language": "python",
   "name": "python3"
  },
  "language_info": {
   "codemirror_mode": {
    "name": "ipython",
    "version": 3
   },
   "file_extension": ".py",
   "mimetype": "text/x-python",
   "name": "python",
   "nbconvert_exporter": "python",
   "pygments_lexer": "ipython3",
   "version": "3.9.7"
  }
 },
 "nbformat": 4,
 "nbformat_minor": 5
}
